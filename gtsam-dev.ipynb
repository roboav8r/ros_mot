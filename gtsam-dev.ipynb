{
 "cells": [
  {
   "cell_type": "code",
   "execution_count": 6,
   "id": "8c3fbee7",
   "metadata": {},
   "outputs": [],
   "source": [
    "import gtsam"
   ]
  },
  {
   "cell_type": "code",
   "execution_count": 2,
   "id": "2be2dcba",
   "metadata": {},
   "outputs": [],
   "source": [
    "#### FILTER OBJECT\n",
    "class GraphTracker():\n",
    "    def __init__(self):\n",
    "        \n",
    "        # Member variables\n",
    "        self.init = False\n",
    "        self.detections = []\n",
    "        self.tracks = []\n",
    "        self.graph = gtsam.NonlinearFactorGraph()\n",
    "        self.trk_delete_thresh = 0.25\n",
    "        self.trk_delete_age = 10\n",
    "        self.trk_create_thresh = 0.75\n",
    "\n",
    "    # Member functions\n",
    "    def handle_detections(self,det_array_msg):\n",
    "        self.detections = det_array_msg.boxes\n",
    "        \n",
    "        # TODO - Compute detection-track correspondences\n",
    "        \n",
    "        # TODO - Assign detections to track variables\n",
    "        \n",
    "        # TODO - create tracks as needed\n",
    "        \n",
    "        # Delete tracks as needed\n",
    "        self.delete_tracks()\n",
    "        \n",
    "    def delete_tracks(self):\n",
    "        self.tracks = [track for track in self.tracks if track.prob < self.trk_delete_thresh]\n",
    "        self.tracks = [track for track in self.tracks if track.age > self.trk_delete_age]\n",
    "        \n",
    "    # birth\n",
    "    # compute assignment\n",
    "    # add factors\n",
    "    # optimize"
   ]
  },
  {
   "cell_type": "code",
   "execution_count": 5,
   "id": "b70486b4",
   "metadata": {},
   "outputs": [],
   "source": [
    "#### DETECTION OBJECT\n",
    "class Detection():\n",
    "    def __init__(self, det_msg):\n",
    "        self.px = det_msg.pose.position.x\n",
    "        self.py = det_msg.pose.position.y\n",
    "        self.pz = det_msg.pose.position.z\n",
    "        self.age = 0\n",
    "        self.prob = det_msg.value\n",
    "        self.class = det_msg.label\n",
    "        # Can be empty/null/contain partial info\n",
    "        # class conf % - float\n",
    "        # ??? BB dimensions\n",
    "\n",
    "#### TRACK OBJECT\n",
    "class Track():\n",
    "    def __init__(self, det):\n",
    "        self.px = det.px\n",
    "        self.py = det.py\n",
    "        self.pz = det.pz\n",
    "        self.vx = 0\n",
    "        self.vy = 0\n",
    "        self.vz = 0\n",
    "        self.prob = \n",
    "        self.age = det.age\n",
    "        # heading in world frame\n",
    "        # self.class = categorical distribution!\n",
    "        # ??? class conf %"
   ]
  },
  {
   "cell_type": "code",
   "execution_count": null,
   "id": "8d807469",
   "metadata": {},
   "outputs": [],
   "source": [
    "#### HELPER FUNCTIONS\n",
    "# Similarity metric (detection, track)\n",
    "\n",
    "# Form similarity matrix (detections, tracks) -> return similarity matrix\n",
    "# - call similarity metric\n",
    "\n",
    "# Hungarian/Munkres algo (similarity matrix) -> return assignments (T_match, D_match, T_unmatch (missed/occ), D_unmatch (false, new obj, extra detection)\n"
   ]
  },
  {
   "cell_type": "code",
   "execution_count": null,
   "id": "8bab5c33",
   "metadata": {},
   "outputs": [],
   "source": []
  }
 ],
 "metadata": {
  "kernelspec": {
   "display_name": "Python 3 (ipykernel)",
   "language": "python",
   "name": "python3"
  },
  "language_info": {
   "codemirror_mode": {
    "name": "ipython",
    "version": 3
   },
   "file_extension": ".py",
   "mimetype": "text/x-python",
   "name": "python",
   "nbconvert_exporter": "python",
   "pygments_lexer": "ipython3",
   "version": "3.8.10"
  }
 },
 "nbformat": 4,
 "nbformat_minor": 5
}
