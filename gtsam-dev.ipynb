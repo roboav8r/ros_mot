{
 "cells": [
  {
   "cell_type": "code",
   "execution_count": 6,
   "id": "e7952af7",
   "metadata": {},
   "outputs": [],
   "source": [
    "import gtsam"
   ]
  },
  {
   "cell_type": "code",
   "execution_count": 2,
   "id": "0b5603d5",
   "metadata": {},
   "outputs": [],
   "source": [
    "#### FILTER OBJECT\n",
    "class GraphTracker():\n",
    "    def __init__(self):\n",
    "        \n",
    "        # Member variables\n",
    "        self.init = False\n",
    "        self.detections = []\n",
    "        self.tracks = []\n",
    "        self.graph = gtsam.NonlinearFactorGraph()\n",
    "        self.trk_delete_thresh = 0.25\n",
    "        self.trk_delete_age = 10\n",
    "        self.trk_create_thresh = 0.75\n",
    "\n",
    "    # Member functions\n",
    "    def handle_detections(self,det_array_msg):\n",
    "        self.detections = det_array_msg.boxes\n",
    "        \n",
    "        # TODO - Compute detection-track correspondences\n",
    "        \n",
    "        # TODO - Assign detections to track variables\n",
    "        \n",
    "        # TODO - create tracks as needed\n",
    "        \n",
    "        # Delete tracks as needed\n",
    "        self.delete_tracks()\n",
    "        \n",
    "    def delete_tracks(self):\n",
    "        self.tracks = [track for track in self.tracks if track.prob < self.trk_delete_thresh]\n",
    "        self.tracks = [track for track in self.tracks if track.age > self.trk_delete_age]\n",
    "        \n",
    "    # birth\n",
    "    # compute assignment\n",
    "    # add factors\n",
    "    # optimize"
   ]
  },
  {
   "cell_type": "code",
   "execution_count": 5,
   "id": "df2189d3",
   "metadata": {},
   "outputs": [],
   "source": [
    "#### DETECTION OBJECT\n",
    "class Detection():\n",
    "    def __init__(self, det_msg):\n",
    "        self.px = det_msg.pose.position.x\n",
    "        self.py = det_msg.pose.position.y\n",
    "        self.pz = det_msg.pose.position.z\n",
    "        self.age = 0\n",
    "        self.prob = det_msg.value\n",
    "        self.class = det_msg.label\n",
    "        # Can be empty/null/contain partial info\n",
    "        # class conf % - float\n",
    "        # ??? BB dimensions\n",
    "\n",
    "#### TRACK OBJECT\n",
    "class Track():\n",
    "    def __init__(self, det):\n",
    "        self.px = det.px\n",
    "        self.py = det.py\n",
    "        self.pz = det.pz\n",
    "        self.vx = 0\n",
    "        self.vy = 0\n",
    "        self.vz = 0\n",
    "        self.prob = \n",
    "        self.age = det.age\n",
    "        # heading in world frame\n",
    "        # self.class = categorical distribution!\n",
    "        # ??? class conf %"
   ]
  },
  {
   "cell_type": "code",
   "execution_count": null,
   "id": "6b1a3d69",
   "metadata": {},
   "outputs": [],
   "source": [
    "#### HELPER FUNCTIONS\n",
    "# Similarity metric (detection, track)\n",
    "\n",
    "# Form similarity matrix (detections, tracks) -> return similarity matrix\n",
    "# - call similarity metric\n",
    "\n",
    "# Hungarian/Munkres algo (similarity matrix) -> return assignments (T_match, D_match, T_unmatch (missed/occ), D_unmatch (false, new obj, extra detection)\n"
   ]
  },
  {
   "cell_type": "code",
   "execution_count": 5,
   "id": "6392e3f5",
   "metadata": {},
   "outputs": [
    {
     "name": "stdout",
     "output_type": "stream",
     "text": [
      "Optimal Assignment:\n",
      "Resource 1 assigned to Task 1\n",
      "Resource 2 assigned to Task 2\n",
      "Resource 3 assigned to Task 0\n"
     ]
    }
   ],
   "source": [
    "import numpy as np\n",
    "from scipy.optimize import linear_sum_assignment\n",
    "\n",
    "# Create a cost matrix\n",
    "cost_matrix = np.array([\n",
    "    [4, 1, 3],\n",
    "    [2, 0, 5],\n",
    "    [3, 2, 2],\n",
    "    [0, 0, 0]\n",
    "])\n",
    "\n",
    "# Solve the assignment problem\n",
    "row_indices, col_indices = linear_sum_assignment(cost_matrix)\n",
    "\n",
    "# Extract the optimal assignment\n",
    "assignment = [(row, col) for row, col in zip(row_indices, col_indices)]\n",
    "\n",
    "print(\"Optimal Assignment:\")\n",
    "for row, col in assignment:\n",
    "    print(f\"Resource {row} assigned to Task {col}\")\n"
   ]
  },
  {
   "cell_type": "code",
   "execution_count": 18,
   "id": "e4bf7f74",
   "metadata": {},
   "outputs": [],
   "source": [
    "def cost(det,track):\n",
    "    return np.abs(det-track)\n",
    "\n",
    "def compute_cost_matrix(detects, tracks):\n",
    "    cost_matrix = np.zeros((len(detects),len(tracks)))\n",
    "    for ii,det in enumerate(detects):\n",
    "        for jj,trk in enumerate(tracks):\n",
    "            cost_matrix[ii,jj] = cost(det,trk)\n",
    "    return cost_matrix  \n",
    "\n",
    "tracks = [1, 2, 3]\n",
    "det = [0.9, 3.1, 2.1, 4.4]\n",
    "\n",
    "cost_matrix = compute_cost_matrix(det,tracks)\n",
    "\n",
    "# Solve the assignment problem\n",
    "row_indices, col_indices = linear_sum_assignment(cost_matrix)\n",
    "\n",
    "# Extract the optimal assignment\n",
    "assignment = [(row, col) for row, col in zip(row_indices, col_indices)]"
   ]
  },
  {
   "cell_type": "code",
   "execution_count": 19,
   "id": "6f0e4e0b",
   "metadata": {},
   "outputs": [
    {
     "name": "stdout",
     "output_type": "stream",
     "text": [
      "[[0.1 1.1 2.1]\n",
      " [2.1 1.1 0.1]\n",
      " [1.1 0.1 0.9]\n",
      " [3.4 2.4 1.4]]\n",
      "Assign this detection\n",
      "[0 1 2]\n",
      "To this track\n",
      "[0 2 1]\n",
      "[(0, 0), (1, 2), (2, 1)]\n"
     ]
    }
   ],
   "source": [
    "print(cost_matrix)\n",
    "\n",
    "print(\"Assign this detection\")\n",
    "print(row_indices)\n",
    "print(\"To this track\")\n",
    "print(col_indices)\n",
    "print(assignment)"
   ]
  },
  {
   "cell_type": "code",
   "execution_count": null,
   "id": "bb0c250e",
   "metadata": {},
   "outputs": [],
   "source": []
  }
 ],
 "metadata": {
  "kernelspec": {
   "display_name": "Python 3 (ipykernel)",
   "language": "python",
   "name": "python3"
  },
  "language_info": {
   "codemirror_mode": {
    "name": "ipython",
    "version": 3
   },
   "file_extension": ".py",
   "mimetype": "text/x-python",
   "name": "python",
   "nbconvert_exporter": "python",
   "pygments_lexer": "ipython3",
   "version": "3.8.10"
  }
 },
 "nbformat": 4,
 "nbformat_minor": 5
}
